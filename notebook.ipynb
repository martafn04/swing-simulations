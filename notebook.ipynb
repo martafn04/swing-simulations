{
 "cells": [
  {
   "cell_type": "markdown",
   "id": "e5d21b25",
   "metadata": {},
   "source": [
    "# Simulations\n",
    "\n",
    "In this notebook are shown the implementation of the Swing algorithm on each one of the different topologies. The simulations returns the congestion $\\Xi$ of each topology, and the number of clock cycle for the first phase of the **bandwidth-optimal** version.\n",
    "\n",
    "We will start by importing all the needed functions from the file **utils.py** and from the library **numpy**."
   ]
  },
  {
   "cell_type": "code",
   "execution_count": 101,
   "id": "8335e332",
   "metadata": {},
   "outputs": [],
   "source": [
    "from utils import *\n",
    "from numpy import log2"
   ]
  },
  {
   "cell_type": "markdown",
   "id": "2823c78b",
   "metadata": {},
   "source": [
    "The number of collectives in a node can be set here (or later on).\n",
    "\n",
    "Be aware of the fact that the simulation is **not** guaranteed to work of non-power-of-two numbers: the exception handling has not been addressed in this work."
   ]
  },
  {
   "cell_type": "code",
   "execution_count": 102,
   "id": "b1f74e58",
   "metadata": {},
   "outputs": [],
   "source": [
    "n = 1024"
   ]
  },
  {
   "cell_type": "markdown",
   "id": "b8bdfe90",
   "metadata": {},
   "source": [
    "# 1D torus\n",
    "\n",
    "To build the 1-dimensional torus, I use the function wrote to build the *supertorus*, and I set the parameter `k=2`: this way, the communication is guaranteed on private links for steps 0 and 1 (like in the 1D torus).\n",
    "\n",
    "Each iteration starts with an allocation phase: the queues of each directed edge are built, by enqueueing the number of items for the steps. The item in question is the target node: by doing this, we can compare the item to the node it is in, and thus check whether the packet has reached its destination or not.\n",
    "\n",
    "The congestion on each edge is evaluated through the step execution: if a node passes on an edge, the occupation number for that edge (not considering the direction)."
   ]
  },
  {
   "cell_type": "code",
   "execution_count": 103,
   "id": "4823f2d0",
   "metadata": {},
   "outputs": [],
   "source": [
    "G = supertorus(n,2)\n",
    "t = 0\n",
    "occupation = list()\n",
    "\n",
    "for s in range(int(log2(n))):\n",
    "\n",
    "    # allocating to each directed edge their packets\n",
    "    els = int(n*2**(-s-1)) # the size is halved at every step\n",
    "    for node in G.nodes:\n",
    "        trg = target(node, s, n) # finding the target of node at step s, in a collective of n nodes\n",
    "        if (s%2 + node%2)%2 == 0:\n",
    "            # at even steps, even nodes communicate clockwise\n",
    "            # likewise do odd nodes at odd steps\n",
    "            G.queue[(node, (node+1)%n)].ensqueue([trg]*els)\n",
    "        else:\n",
    "            G.queue[(node, (node-1)%n)].ensqueue([trg]*els)\n",
    "\n",
    "    # creating the dictionary that keeps track of occupation of a link\n",
    "    occupation.append(dict())\n",
    "    for edge in G.queue.keys():\n",
    "        start, end = edge\n",
    "        if edge not in occupation[s].keys() and (end, start) not in occupation[s].keys():\n",
    "            occupation[s][(start,end)] = 0\n",
    "\n",
    "    # sending the packets\n",
    "    while not G.empty_queues():\n",
    "        \n",
    "        t += 1\n",
    "        for edge in G.queue.keys():\n",
    "            if not G.queue[edge].is_empty():\n",
    "                start, end = edge\n",
    "                trg = G.queue[edge].dequeue()\n",
    "\n",
    "                # if the packet has not yet arrived, it will be enqueued onto the next edge\n",
    "                if end != trg:\n",
    "                    G.queue[(end, (2*end-start)%n)].enqueue(trg)\n",
    "\n",
    "                # updating the occupation\n",
    "                try:\n",
    "                    occupation[s][edge] += 1\n",
    "                except:\n",
    "                    occupation[s][(end,start)] += 1\n"
   ]
  },
  {
   "cell_type": "markdown",
   "id": "fc855f11",
   "metadata": {},
   "source": [
    "To obtain the final congestion deficiency $\\Xi$, the maximum occupation number for each step is considered: they are all summed, and the results is then divided for twice the size of the original vector. The reason for the division is that we are considering messages sent both by the \"sending\" and the \"receiving\" node of a couple: for the congestion evaluation, we consider the data sent as a single packet."
   ]
  },
  {
   "cell_type": "code",
   "execution_count": 104,
   "id": "21ec92e8",
   "metadata": {},
   "outputs": [
    {
     "name": "stdout",
     "output_type": "stream",
     "text": [
      "The congestion deficiency, evaluated on a 1D torus of 1024 nodes, is 2.22\n",
      "The result is consistent with the lower bound if it holds that 2.22 < 3.33\n",
      "The execution required 2275 clock cycles.\n"
     ]
    }
   ],
   "source": [
    "cong = sum([max(o.values()) for o in occupation])/(2*n)\n",
    "print(f'The congestion deficiency, evaluated on a 1D torus of {n} nodes, is {cong:.2f}')\n",
    "print(f'The result is consistent with the lower bound if it holds that {cong:.2f} < {log2(n)/3:.2f}')\n",
    "print(f'The execution required {t} clock cycles.')"
   ]
  },
  {
   "cell_type": "markdown",
   "id": "0b6464d7",
   "metadata": {},
   "source": [
    "# *Supertorus*\n",
    "\n",
    "The simulation is similar to the previous one. Here, in order to make use of the added links, at every iteration we check whether the target is neighbor to the node the packet is passing through: if that is the case, the packet is rerouted to the longer link.\n",
    "\n",
    "This code can also be used for topologies with more reserved edges (or less, like a normal 1D torus): we only need to set the right value for `k`."
   ]
  },
  {
   "cell_type": "code",
   "execution_count": 105,
   "id": "c6a7ad85",
   "metadata": {},
   "outputs": [],
   "source": [
    "k = 3\n",
    "\n",
    "G = supertorus(n, k)\n",
    "t = 0\n",
    "occupation = list()\n",
    "\n",
    "for s in range(int(log2(n))):\n",
    "\n",
    "    els = int(n*2**(-s-1))\n",
    "    for node in G.nodes:\n",
    "        trg = target(node, s, n)\n",
    "        if (s%2 + node%2)%2 == 0:\n",
    "            G.queue[(node, (node+1)%n)].ensqueue([trg]*els)\n",
    "        else:\n",
    "            G.queue[(node, (node-1)%n)].ensqueue([trg]*els)\n",
    "\n",
    "    occupation.append(dict())\n",
    "    for edge in G.queue.keys():\n",
    "        start, end = edge\n",
    "        if edge not in occupation[s].keys() and (end, start) not in occupation[s].keys():\n",
    "            occupation[s][(start,end)] = 0\n",
    "\n",
    "    while not G.empty_queues():\n",
    "        \n",
    "        t += 1\n",
    "        for edge in G.queue.keys():\n",
    "            if not G.queue[edge].is_empty():\n",
    "                start, end = edge\n",
    "                trg = G.queue[edge].dequeue()\n",
    "                \n",
    "                if end != trg and trg not in G.neighbor[start]:\n",
    "                    G.queue[(end, (2*end-start)%n)].enqueue(trg)\n",
    "                \n",
    "                # if we can use a longer link, the packet is rerouted\n",
    "                if end != trg and trg in G.neighbor[start]:\n",
    "                    try: occupation[s][(start, trg)] += 1\n",
    "                    except: occupation[s][(trg, start)] += 1\n",
    "                # else, it keeps on following the previous path\n",
    "                else: \n",
    "                    try: occupation[s][(start,end)] += 1\n",
    "                    except: occupation[s][(end,start)] += 1\n",
    "    \n"
   ]
  },
  {
   "cell_type": "code",
   "execution_count": 106,
   "id": "db9e3067",
   "metadata": {},
   "outputs": [
    {
     "name": "stdout",
     "output_type": "stream",
     "text": [
      "The congestion deficiency, evaluated on a supertorus of 1024 nodes and reserved link up to step 2, is 2.01\n",
      "The execution required 2105 clock cycles.\n"
     ]
    }
   ],
   "source": [
    "cong = sum([max(o.values()) for o in occupation])/(2*n)\n",
    "print(f'The congestion deficiency, evaluated on a supertorus of {n} nodes and reserved link up to step {k-1}, is {cong:.2f}')\n",
    "print(f'The execution required {t} clock cycles.')"
   ]
  },
  {
   "cell_type": "markdown",
   "id": "33cad2d3",
   "metadata": {},
   "source": [
    "# 2D torus\n",
    "\n",
    "This section simulates the execution on a 2D torus based on a square tessellation of the plane. We can change the value `b` of the width of the rectangular in which the torus is inscribed: the height `h` will change accordingly to it, and to the number `n` of nodes in the collective.\n",
    "\n",
    "When communication over one of the two dimensions is exhausted, all packets are sent through one single dimension: and thus the packet size doubles in those steps."
   ]
  },
  {
   "cell_type": "code",
   "execution_count": 107,
   "id": "8f3d3c26",
   "metadata": {},
   "outputs": [],
   "source": [
    "b = 32\n",
    "h = n // b\n",
    "\n",
    "G = recTorus(b,h)\n",
    "t = 0\n",
    "occupation = list()\n",
    "l = n//2 if min(b,h) > 1 else n\n",
    "\n",
    "# horizontal steps\n",
    "for s in range(int(log2(b))):\n",
    "\n",
    "    # the size of the packet doubles if communication over one dimension has been exhausted\n",
    "    els = int(l*2**(-s-1))\n",
    "    if s > log2(h) or h == 1: els *= 2\n",
    "    for node in G.nodes:\n",
    "        x,y = node\n",
    "        trg = (target(x,s,b), y)\n",
    "        if (s%2 + x%2)%2 == 0:\n",
    "            G.queue[(node, ((x+1)%b, y))].ensqueue([trg]*els)\n",
    "        else:\n",
    "            G.queue[(node, ((x-1)%b, y))].ensqueue([trg]*els)\n",
    "\n",
    "    occupation.append(dict())\n",
    "    for edge in G.queue.keys():\n",
    "        start, end = edge\n",
    "        if edge not in occupation[s].keys() and (end, start) not in occupation[s].keys():\n",
    "            occupation[s][(start,end)] = 0\n",
    "\n",
    "    while not G.empty_queues():\n",
    "        \n",
    "        t += 1\n",
    "        for edge in G.queue.keys():\n",
    "            if not G.queue[edge].is_empty():\n",
    "                start,end = edge\n",
    "                trg = G.queue[edge].dequeue()\n",
    "                if end != trg:\n",
    "                    G.queue[(end, ((2*end[0] - start[0])%b, end[1]))].enqueue(trg)\n",
    "                try:\n",
    "                    occupation[s][edge] += 1\n",
    "                except:\n",
    "                    occupation[s][(end, start)] += 1\n",
    "\n",
    "# vertical steps\n",
    "for s in range(int(log2(h))):\n",
    "\n",
    "    i = int(s+log2(b))\n",
    "    els = int(l*2**(-s-1))\n",
    "    if s > log2(b) or b == 1: els *= 2\n",
    "    for node in G.nodes:\n",
    "        x,y = node\n",
    "        trg = (x, target(y, s, h))\n",
    "        if (s%2 + y%2)%2 == 0:\n",
    "            G.queue[(node, (x, (y+1)%h))].ensqueue([trg]*els)\n",
    "        else:\n",
    "            G.queue[(node, (x, (y-1)%h))].ensqueue([trg]*els)\n",
    "\n",
    "    occupation.append(dict())\n",
    "    for edge in G.queue.keys():\n",
    "        start, end = edge\n",
    "        if edge not in occupation[i].keys() and (end, start) not in occupation[i].keys():\n",
    "            occupation[i][edge] = 0\n",
    "\n",
    "    while not G.empty_queues():\n",
    "\n",
    "        t += 1\n",
    "        for edge in G.queue.keys():\n",
    "            if not G.queue[edge].is_empty():\n",
    "                start,end = edge\n",
    "                trg = G.queue[edge].dequeue()\n",
    "                if end != trg:\n",
    "                    G.queue[(end, (end[0], (2*end[1] - start[1])%h))].enqueue(trg)\n",
    "                try:\n",
    "                    occupation[i][edge] += 1\n",
    "                except:\n",
    "                    occupation[i][(end, start)] += 1\n"
   ]
  },
  {
   "cell_type": "markdown",
   "id": "5d7dcfb5",
   "metadata": {},
   "source": [
    "Note that here the execution is divided between a horizontal and a vertical phase: each of them takes up half the vector."
   ]
  },
  {
   "cell_type": "code",
   "execution_count": 108,
   "id": "7a18530c",
   "metadata": {},
   "outputs": [
    {
     "name": "stdout",
     "output_type": "stream",
     "text": [
      "The congestion deficiency, evaluated on a 2D torus of 1024 nodes and dimension 32x32, is 1.38\n",
      "The execution required 1408 clock cycles.\n"
     ]
    }
   ],
   "source": [
    "cong = sum([max(o.values()) for o in occupation])/(2*n)\n",
    "print(f'The congestion deficiency, evaluated on a 2D torus of {n} nodes and dimension {b}x{h}, is {cong:.2f}')\n",
    "print(f'The execution required {t} clock cycles.')"
   ]
  },
  {
   "cell_type": "markdown",
   "id": "47b1c8a9",
   "metadata": {},
   "source": [
    "# Honeycomb torus\n",
    "\n",
    "The Honeycomb rectangular torus is based on a hexagonal tessellation of a plane. It is inscribed in a $b \\times h$ rectangle: like for the square-based torus, we can change `b` (and `h` will change accordingly).\n",
    "\n",
    "A Honeycomb torus has the same number of links as a square-based torus, **only** in the horizontal dimension: the first phase of the execution is therefore the same of a square-based torus.\n",
    "\n",
    "Instead, in the vertical dimension, the links are half the ones of a square-based torus: we have to take double to steps, alternating between a vertical one, and a horizontal one.\n",
    "\n",
    "In the vertical pass we are traversing the torus from the upper left corner to the lower right one."
   ]
  },
  {
   "cell_type": "code",
   "execution_count": 109,
   "id": "74273c8c",
   "metadata": {},
   "outputs": [],
   "source": [
    "b = 32\n",
    "h = n // b\n",
    "G = honeycomb(b,h)\n",
    "t = 0\n",
    "occupation = list()\n",
    "\n",
    "# horizontal steps\n",
    "for s in range(int(log2(b))):\n",
    "\n",
    "    els = int(n*2**(-s-1))\n",
    "    for node in G.nodes:\n",
    "        x,y = node\n",
    "        trg = (target(x,s,b), y)\n",
    "        if (s%2 + x%2)%2 == 0:\n",
    "            G.queue[(node, ((x+1)%b, y))].ensqueue([trg]*els)\n",
    "        else:\n",
    "            G.queue[(node, ((x-1)%b, y))].ensqueue([trg]*els)\n",
    "\n",
    "    occupation.append(dict())\n",
    "    for key in G.queue.keys():\n",
    "        start, end = key\n",
    "        if (start, end) not in occupation[s].keys() and (end, start) not in occupation[s].keys():\n",
    "            occupation[s][(start,end)] = 0\n",
    "\n",
    "    while not G.empty_queues():\n",
    "\n",
    "        t += 1\n",
    "        for edge in G.queue.keys():\n",
    "            if not G.queue[edge].is_empty():\n",
    "                start, end = edge\n",
    "                trg = G.queue[edge].dequeue()\n",
    "                if end != trg:\n",
    "                    x,y = end\n",
    "                    G.queue[(end, ((2*x-start[0])%b, y))].enqueue(trg)\n",
    "                try:\n",
    "                    occupation[s][edge] += 1\n",
    "                except:\n",
    "                    occupation[s][(end,start)] += 1\n",
    "\n",
    "# vertical steps\n",
    "for i in range(int(log2(h))):\n",
    "\n",
    "    s = int(i+log2(b))\n",
    "    els = int(n*2**(-s-1))\n",
    "    d = abs(distance(i))\n",
    "\n",
    "    for node in G.nodes:\n",
    "        x,y = node\n",
    "        \n",
    "        if (i%2 + y%2)%2 == 0:\n",
    "            trg = ((x+d)%b, target(y, i, h))\n",
    "        else:\n",
    "            trg = ((x-d)%b, target(y, i, h))\n",
    "\n",
    "        # enrouting the packet is a little bit more complex here\n",
    "        # it is likely that there is a more compact way to express it :)\n",
    "        if i%2 == 0:\n",
    "            if y%2 == 0:\n",
    "                if x%2 == 0: G.queue[node, (x, (y+1)%h)].ensqueue([trg]*els)\n",
    "                else: G.queue[(node, ((x+1)%b, y))].ensqueue([trg]*els)\n",
    "            else:\n",
    "                if x%2 == 0: G.queue[(node, (x, (y-1)%h))].ensqueue([trg]*els)\n",
    "                else: G.queue[(node, ((x-1)%b, y))].ensqueue([trg]*els)\n",
    "        else:\n",
    "            if y%2 == 0:\n",
    "                if x%2 == 0: G.queue[node, ((x-1)%b, y)].ensqueue([trg]*els)\n",
    "                else: G.queue[(node, (x, (y-1)%h))].ensqueue([trg]*els)\n",
    "            else:\n",
    "                if x%2 == 0: G.queue[(node, ((x+1)%b, y))].ensqueue([trg]*els)\n",
    "                else: G.queue[(node, (x, (y+1)%h))].ensqueue([trg]*els)\n",
    "\n",
    "    occupation.append(dict())\n",
    "    for key in G.queue.keys():\n",
    "        start, end = key\n",
    "        if (start, end) not in occupation[s].keys() and (end, start) not in occupation[s].keys():\n",
    "            occupation[s][(start,end)] = 0\n",
    "\n",
    "    while not G.empty_queues():\n",
    "\n",
    "        t += 1\n",
    "        for edge in G.queue.keys():\n",
    "            if not G.queue[edge].is_empty():\n",
    "                start, end = edge\n",
    "                trg = G.queue[edge].dequeue()\n",
    "                if trg != end:\n",
    "                    sx, sy = start\n",
    "                    ex, ey = end\n",
    "\n",
    "                    # the previous step is one to the left\n",
    "                    if ex - sx == 1 or ex - sx < -1:\n",
    "                        G.queue[(end, (ex, (ey+1)%h))].enqueue(trg)\n",
    "\n",
    "                    # the previous step is one to the right\n",
    "                    elif ex - sx == -1 or ex - sx > 1:\n",
    "                        G.queue[(end, (ex, (ey-1)%h))].enqueue(trg)\n",
    "\n",
    "                    # the previous step is a downward one\n",
    "                    elif ey - sy == 1 or ey - sy < -1:\n",
    "                        G.queue[(end, ((ex+1)%b, ey))].enqueue(trg)\n",
    "\n",
    "                    # the previous step is a upward one\n",
    "                    else:\n",
    "                        G.queue[(end, ((ex-1)%b, ey))].enqueue(trg)\n",
    "\n",
    "                try: occupation[s][(start, end)] += 1\n",
    "                except: occupation[s][(end, start)] += 1 \n",
    "    "
   ]
  },
  {
   "cell_type": "code",
   "execution_count": 110,
   "id": "20a1acb5",
   "metadata": {},
   "outputs": [
    {
     "name": "stdout",
     "output_type": "stream",
     "text": [
      "The congestion deficiency of a Honeycomb torus of 1024 nodes and dimension 32x32, is 1.46\n",
      "The execution required 1506 clock cycles.\n"
     ]
    }
   ],
   "source": [
    "cong = sum([max(o.values()) for o in occupation])/(2*n)\n",
    "print(f'The congestion deficiency of a Honeycomb torus of {n} nodes and dimension {b}x{h}, is {cong:.2f}')\n",
    "print(f'The execution required {t} clock cycles.')"
   ]
  }
 ],
 "metadata": {
  "kernelspec": {
   "display_name": "reti",
   "language": "python",
   "name": "python3"
  },
  "language_info": {
   "codemirror_mode": {
    "name": "ipython",
    "version": 3
   },
   "file_extension": ".py",
   "mimetype": "text/x-python",
   "name": "python",
   "nbconvert_exporter": "python",
   "pygments_lexer": "ipython3",
   "version": "3.12.8"
  }
 },
 "nbformat": 4,
 "nbformat_minor": 5
}
